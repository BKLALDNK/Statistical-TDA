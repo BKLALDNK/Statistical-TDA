{
 "cells": [
  {
   "cell_type": "markdown",
   "metadata": {},
   "source": [
    "# Code for Cholesky Decomposition with aim of Gaussian Markov Random Field\n",
    "\n",
    "Solves Ax=B, returns x\n",
    "\n",
    "Here we will code the \"algorithm 2.1\" from the textbook \n",
    "\n",
    "## 1) Import relevant libraries "
   ]
  },
  {
   "cell_type": "code",
   "execution_count": 1,
   "metadata": {},
   "outputs": [],
   "source": [
    "import numpy as np\n",
    "import math\n",
    "import scipy\n",
    "import scipy.linalg\n",
    "from scipy.linalg import solve_triangular"
   ]
  },
  {
   "cell_type": "markdown",
   "metadata": {},
   "source": [
    "## 2) Define A and B"
   ]
  },
  {
   "cell_type": "code",
   "execution_count": 7,
   "metadata": {},
   "outputs": [],
   "source": [
    "A = np.array([\n",
    "    [2,-2,-3],\n",
    "    [-2,5,4],\n",
    "    [-3,4,5],\n",
    "])\n",
    "\n",
    "B = np.array([\n",
    "    [7],\n",
    "    [-12],\n",
    "    [-12],\n",
    "])"
   ]
  },
  {
   "cell_type": "markdown",
   "metadata": {},
   "source": [
    "## 3) Check Matrix is symmetrical"
   ]
  },
  {
   "cell_type": "code",
   "execution_count": 10,
   "metadata": {},
   "outputs": [],
   "source": [
    "def SymmetricalCheck(A):\n",
    "    \n",
    "    if((A.transpose() == A).all()):\n",
    "        return print(\"true\")\n",
    "    \n",
    "    else:\n",
    "        return print(\"false\")"
   ]
  },
  {
   "cell_type": "markdown",
   "metadata": {},
   "source": [
    "## 4) Cholesky factorisation, A = LL^T:\n",
    " \n",
    " Returns a lower triangular matrix"
   ]
  },
  {
   "cell_type": "code",
   "execution_count": 18,
   "metadata": {},
   "outputs": [],
   "source": [
    "def AlgorithmCholk (A):\n",
    "    \n",
    "    L = np.linalg.cholesky(A)\n",
    "    print (L)\n",
    "    return (L)"
   ]
  },
  {
   "cell_type": "markdown",
   "metadata": {},
   "source": [
    "## 5) Backward Substitution Algorithim\n",
    "\n",
    "ref: https://johnfoster.pge.utexas.edu/numerical-methods-book/LinearAlgebra_LU.html"
   ]
  },
  {
   "cell_type": "code",
   "execution_count": 17,
   "metadata": {},
   "outputs": [],
   "source": [
    "def BackwardSub(L,B):  # LTx=v\n",
    "    n = len(L) # len() returns number of items in the matrix\n",
    "    x = [0 for i in range(n)]  # populate array\n",
    "    x[n-1] = B[n-1] / A[n-1][n-1]\n",
    "\n",
    "    for i in range(n-2,-1,-1): #Create a sequence of numbers from n-2 to -1, increment of 1\n",
    "        sum_a = B[i]\n",
    "        for j in range(i+1,n):\n",
    "            sum_a = sum_a - A[i][j]*x[j]\n",
    "        x[i] = sum_a/A[i][i]\n",
    "    return x"
   ]
  },
  {
   "cell_type": "markdown",
   "metadata": {},
   "source": [
    "## 6) Chok Algorithn"
   ]
  },
  {
   "cell_type": "code",
   "execution_count": 12,
   "metadata": {},
   "outputs": [],
   "source": [
    "def Cholk(A,B):\n",
    "    L = np.linalg.cholesky(A)\n",
    "    v = solve_triangular(L, B, lower=True)\n",
    "    x = BackwardSub(L,v)\n",
    "    return x"
   ]
  },
  {
   "cell_type": "markdown",
   "metadata": {},
   "source": [
    "## 7) Run"
   ]
  },
  {
   "cell_type": "code",
   "execution_count": 19,
   "metadata": {},
   "outputs": [
    {
     "data": {
      "text/plain": [
       "[array([1.95467823]), array([-0.64267]), array([0.08164966])]"
      ]
     },
     "execution_count": 19,
     "metadata": {},
     "output_type": "execute_result"
    }
   ],
   "source": [
    "Cholk(A,B)"
   ]
  }
 ],
 "metadata": {
  "kernelspec": {
   "display_name": "Python 3",
   "language": "python",
   "name": "python3"
  },
  "language_info": {
   "codemirror_mode": {
    "name": "ipython",
    "version": 3
   },
   "file_extension": ".py",
   "mimetype": "text/x-python",
   "name": "python",
   "nbconvert_exporter": "python",
   "pygments_lexer": "ipython3",
   "version": "3.7.6"
  }
 },
 "nbformat": 4,
 "nbformat_minor": 4
}
